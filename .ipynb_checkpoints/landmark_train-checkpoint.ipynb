{
 "cells": [
  {
   "cell_type": "code",
   "execution_count": 29,
   "metadata": {},
   "outputs": [],
   "source": [
    "import pandas as pd\n",
    "import numpy as np\n",
    "import scipy.misc\n",
    "import matplotlib.pyplot as plt\n",
    "\n",
    "from keras.models import Sequential, load_model\n",
    "\n",
    "from keras.layers import Input, Dense, Activation, ZeroPadding2D, BatchNormalization, Flatten, Conv2D, LeakyReLU, Dropout\n",
    "from keras.utils import np_utils\n",
    "from keras.models import model_from_json\n",
    "from keras.optimizers import Adam, SGD, Adamax\n",
    "# import seaborn as sns\n",
    "from imutils import face_utils\n",
    "import face_recognition\n",
    "import dlib\n",
    "import cv2\n",
    "import math\n",
    "import tensorflow as tf\n",
    "from keras.regularizers import l2, l1_l2, l1\n",
    "from keras.callbacks import EarlyStopping"
   ]
  },
  {
   "cell_type": "markdown",
   "metadata": {},
   "source": [
    "\n",
    "data = pd.read_csv('data/fer2013/fer2013.csv')"
   ]
  },
  {
   "cell_type": "code",
   "execution_count": 2,
   "metadata": {},
   "outputs": [],
   "source": [
    "data = pd.read_csv('data/fer2013/fer2013.csv')\n",
    "train = data[data['Usage']=='Training']\n",
    "test = data[data['Usage'] == 'PublicTest']\n",
    "result = data[data['Usage'] == 'PrivateTest']\n"
   ]
  },
  {
   "cell_type": "code",
   "execution_count": null,
   "metadata": {},
   "outputs": [],
   "source": []
  },
  {
   "cell_type": "code",
   "execution_count": null,
   "metadata": {},
   "outputs": [],
   "source": []
  },
  {
   "cell_type": "code",
   "execution_count": 3,
   "metadata": {},
   "outputs": [
    {
     "name": "stderr",
     "output_type": "stream",
     "text": [
      "/usr/local/Cellar/python3/3.6.2/Frameworks/Python.framework/Versions/3.6/lib/python3.6/site-packages/ipykernel_launcher.py:1: SettingWithCopyWarning: \n",
      "A value is trying to be set on a copy of a slice from a DataFrame.\n",
      "Try using .loc[row_indexer,col_indexer] = value instead\n",
      "\n",
      "See the caveats in the documentation: http://pandas.pydata.org/pandas-docs/stable/indexing.html#indexing-view-versus-copy\n",
      "  \"\"\"Entry point for launching an IPython kernel.\n"
     ]
    }
   ],
   "source": [
    "train['pixels'] = train['pixels'].apply(lambda im: np.fromstring(im, sep=' '))"
   ]
  },
  {
   "cell_type": "code",
   "execution_count": 4,
   "metadata": {},
   "outputs": [],
   "source": [
    "x_train = np.vstack(train['pixels'].values)\n",
    "# x_train = (x_train - np.mean(x_train)) / 256\n",
    "y_train = np.array(train[\"emotion\"])\n",
    "\n"
   ]
  },
  {
   "cell_type": "code",
   "execution_count": 5,
   "metadata": {},
   "outputs": [
    {
     "name": "stderr",
     "output_type": "stream",
     "text": [
      "/usr/local/Cellar/python3/3.6.2/Frameworks/Python.framework/Versions/3.6/lib/python3.6/site-packages/ipykernel_launcher.py:1: SettingWithCopyWarning: \n",
      "A value is trying to be set on a copy of a slice from a DataFrame.\n",
      "Try using .loc[row_indexer,col_indexer] = value instead\n",
      "\n",
      "See the caveats in the documentation: http://pandas.pydata.org/pandas-docs/stable/indexing.html#indexing-view-versus-copy\n",
      "  \"\"\"Entry point for launching an IPython kernel.\n"
     ]
    }
   ],
   "source": [
    "test['pixels'] = test['pixels'].map(lambda im: np.fromstring(im, sep=' '))\n"
   ]
  },
  {
   "cell_type": "code",
   "execution_count": 6,
   "metadata": {},
   "outputs": [],
   "source": [
    "x_test = np.vstack(test['pixels'].values)\n",
    "# x_test = (x_test - np.mean(x_test)) / 256\n",
    "y_test = np.array(test['emotion'])"
   ]
  },
  {
   "cell_type": "code",
   "execution_count": 7,
   "metadata": {},
   "outputs": [
    {
     "name": "stdout",
     "output_type": "stream",
     "text": [
      "[[1. 0. 0. ... 0. 0. 0.]\n",
      " [1. 0. 0. ... 0. 0. 0.]\n",
      " [0. 0. 1. ... 0. 0. 0.]\n",
      " ...\n",
      " [0. 0. 0. ... 1. 0. 0.]\n",
      " [1. 0. 0. ... 0. 0. 0.]\n",
      " [0. 0. 0. ... 1. 0. 0.]]\n",
      "(28709, 7)\n"
     ]
    }
   ],
   "source": [
    "y_train = np_utils.to_categorical(y_train, 7)\n",
    "y_test = np_utils.to_categorical(y_test, 7)\n",
    "print(y_train)\n",
    "print(y_train.shape)"
   ]
  },
  {
   "cell_type": "code",
   "execution_count": 9,
   "metadata": {},
   "outputs": [],
   "source": [
    "x_train = x_train.reshape((-1, 48,48))\n",
    "x_test = x_test.reshape((-1, 48,48))"
   ]
  },
  {
   "cell_type": "code",
   "execution_count": null,
   "metadata": {},
   "outputs": [],
   "source": [
    "for i in range (0, x_train.shape[0]):\n",
    "    scipy.misc.imsave('train_images/'+'train' + str(i)+'.jpg', x_train[i])\n",
    "for i in range (0, 1000):\n",
    "    scipy.misc.imsave('test_images/'+'test' + str(i)+'.jpg', x_test[i])"
   ]
  },
  {
   "cell_type": "code",
   "execution_count": 8,
   "metadata": {},
   "outputs": [
    {
     "name": "stdout",
     "output_type": "stream",
     "text": [
      "{'chin': [(-2, 16), (-3, 22), (-3, 29), (-2, 35), (1, 40), (5, 45), (10, 48), (16, 49), (21, 50), (24, 49), (27, 45), (29, 42), (31, 38), (32, 34), (34, 30), (35, 26), (35, 21)], 'left_eyebrow': [(8, 14), (13, 13), (17, 13), (21, 14), (25, 15)], 'right_eyebrow': [(29, 16), (31, 15), (33, 15), (35, 15), (36, 16)], 'nose_bridge': [(27, 19), (27, 22), (28, 26), (28, 29)], 'nose_tip': [(22, 32), (24, 32), (26, 33), (27, 33), (29, 32)], 'left_eye': [(13, 17), (15, 16), (18, 16), (20, 18), (18, 19), (15, 19)], 'right_eye': [(28, 19), (30, 18), (32, 18), (33, 19), (32, 20), (30, 20)], 'top_lip': [(17, 39), (20, 38), (23, 37), (25, 38), (26, 37), (27, 38), (27, 40), (27, 40), (26, 39), (24, 39), (23, 39), (18, 39)], 'bottom_lip': [(27, 40), (26, 41), (25, 42), (24, 43), (22, 42), (19, 41), (17, 39), (18, 39), (23, 40), (24, 40), (26, 40), (27, 40)]}\n"
     ]
    }
   ],
   "source": [
    "#test collect face_landmarks\n",
    "img =face_recognition.load_image_file('train_images/train0.jpg')\n",
    "face_landmarks = face_recognition.face_landmarks(img)\n",
    "print(face_landmarks[0])\n"
   ]
  },
  {
   "cell_type": "code",
   "execution_count": 9,
   "metadata": {},
   "outputs": [],
   "source": [
    "def total_landmark(img):\n",
    "    landmarks_a_face = []\n",
    "    face_landmarks = face_recognition.face_landmarks(img)\n",
    "    if(len(face_landmarks) > 0):\n",
    "        args = (face_landmarks[0]['chin'], face_landmarks[0]['left_eyebrow'], \n",
    "        face_landmarks[0]['right_eyebrow'],face_landmarks[0]['nose_bridge'], \n",
    "        face_landmarks[0]['right_eye'], face_landmarks[0]['top_lip'], face_landmarks[0]['left_eye'],\n",
    "        face_landmarks[0]['bottom_lip'],face_landmarks[0]['nose_tip'])\n",
    "        landmarks_a_face=np.concatenate(args)\n",
    "    return landmarks_a_face"
   ]
  },
  {
   "cell_type": "code",
   "execution_count": 10,
   "metadata": {},
   "outputs": [],
   "source": [
    "# model \n",
    "# i will collect all facial landmarks, then i compute the central point \n",
    "# i consider this point the original coordinates. I will call '0'\n",
    "# i will the distance each point to '0'\n",
    "# then i will determine the direction each point to '0' -> angle"
   ]
  },
  {
   "cell_type": "code",
   "execution_count": 18,
   "metadata": {},
   "outputs": [],
   "source": [
    "def process_data_landmarks(img):\n",
    "    data_landmarks = []\n",
    "    landmarks = total_landmark(img)\n",
    "    x_cordinates = []\n",
    "    y_cordinates = []\n",
    "    for i in range(len(landmarks)):\n",
    "        x_cordinates.append(landmarks[i][0])\n",
    "        y_cordinates.append(landmarks[i][1])\n",
    "    # determine the center point\n",
    "    x_mean = np.mean(x_cordinates)\n",
    "    y_mean = np.mean(y_cordinates)\n",
    "    \n",
    "    # distance\n",
    "    x_dis = (x_cordinates - x_mean)\n",
    "    y_dis = y_cordinates - y_mean\n",
    "    \n",
    "    for x_dis,y_dis,x,y in zip(x_dis, y_dis, x_cordinates, y_cordinates):\n",
    "        data_landmarks.append(x)\n",
    "        data_landmarks.append(y)\n",
    "        meannp = np.asarray((x_mean, y_mean))\n",
    "        coornp = np.asarray((x, y))\n",
    "        dist = np.linalg.norm(coornp-meannp)\n",
    "        data_landmarks.append(dist)\n",
    "        #direction\n",
    "        data_landmarks.append((math.atan2(y_dis, x_dis)*360)/(2*math.pi))\n",
    "    \n",
    "    return data_landmarks"
   ]
  },
  {
   "cell_type": "code",
   "execution_count": 21,
   "metadata": {},
   "outputs": [
    {
     "data": {
      "text/plain": [
       "[-2,\n",
       " 16,\n",
       " 28.45299147304958,\n",
       " -149.49191398242027,\n",
       " -3,\n",
       " 22,\n",
       " 26.87502871086609,\n",
       " -161.68677760509266,\n",
       " -3,\n",
       " 29,\n",
       " 25.554744099435908,\n",
       " -176.75971309573072,\n",
       " -2,\n",
       " 35,\n",
       " 24.933588487751685,\n",
       " 169.47249156600773,\n",
       " 1,\n",
       " 40,\n",
       " 23.540519473851155,\n",
       " 156.0512403199564,\n",
       " 5,\n",
       " 45,\n",
       " 22.772801793877054,\n",
       " 140.27048916695378,\n",
       " 10,\n",
       " 48,\n",
       " 21.55910355250548,\n",
       " 125.48189670170687,\n",
       " 16,\n",
       " 49,\n",
       " 19.665690692983524,\n",
       " 109.34351691747304,\n",
       " 21,\n",
       " 50,\n",
       " 19.614066703626786,\n",
       " 94.42671067594009,\n",
       " 24,\n",
       " 49,\n",
       " 18.614971614533196,\n",
       " 85.42096517616498,\n",
       " 27,\n",
       " 45,\n",
       " 15.231197931617158,\n",
       " 72.87038242628499,\n",
       " 29,\n",
       " 42,\n",
       " 13.251433942906326,\n",
       " 60.69458629261889,\n",
       " 31,\n",
       " 38,\n",
       " 11.36224016394698,\n",
       " 41.68006924575094,\n",
       " 32,\n",
       " 34,\n",
       " 10.130561648841967,\n",
       " 20.54685141678801,\n",
       " 34,\n",
       " 30,\n",
       " 11.494706578290184,\n",
       " -2.215901723222895,\n",
       " 35,\n",
       " 26,\n",
       " 13.253529986338183,\n",
       " -19.593240639725536,\n",
       " 35,\n",
       " 21,\n",
       " 15.655685917365927,\n",
       " -37.10371517838349,\n",
       " 8,\n",
       " 14,\n",
       " 21.93337009593902,\n",
       " -131.4316671582737,\n",
       " 13,\n",
       " 13,\n",
       " 19.870146546148877,\n",
       " -118.60726342701321,\n",
       " 17,\n",
       " 13,\n",
       " 18.29512537957368,\n",
       " -107.54084957646165,\n",
       " 21,\n",
       " 14,\n",
       " 16.513982337834836,\n",
       " -95.25986988230085,\n",
       " 25,\n",
       " 15,\n",
       " 15.643260934163342,\n",
       " -80.85547333922248,\n",
       " 29,\n",
       " 16,\n",
       " 15.833875478047721,\n",
       " -65.81808579614648,\n",
       " 31,\n",
       " 15,\n",
       " 17.622285492740556,\n",
       " -61.21294678100088,\n",
       " 33,\n",
       " 15,\n",
       " 18.667870538229547,\n",
       " -55.82518816715125,\n",
       " 35,\n",
       " 15,\n",
       " 19.86035837734413,\n",
       " -51.046081000535956,\n",
       " 36,\n",
       " 16,\n",
       " 19.761507235276273,\n",
       " -46.9651210734714,\n",
       " 27,\n",
       " 19,\n",
       " 12.292294397028156,\n",
       " -68.59530274800187,\n",
       " 27,\n",
       " 22,\n",
       " 9.562104102996535,\n",
       " -62.02052561151985,\n",
       " 28,\n",
       " 26,\n",
       " 7.060488760929363,\n",
       " -39.01185162422448,\n",
       " 28,\n",
       " 29,\n",
       " 5.673079840487282,\n",
       " -14.75070249743228,\n",
       " 28,\n",
       " 19,\n",
       " 12.691442934727005,\n",
       " -64.38838821943284,\n",
       " 30,\n",
       " 18,\n",
       " 14.522605038310632,\n",
       " -58.97046189004087,\n",
       " 32,\n",
       " 18,\n",
       " 15.647699560740863,\n",
       " -52.682567642901894,\n",
       " 33,\n",
       " 19,\n",
       " 15.522043514838604,\n",
       " -47.50215024593471,\n",
       " 32,\n",
       " 20,\n",
       " 14.109313369736745,\n",
       " -47.75286843185281,\n",
       " 30,\n",
       " 20,\n",
       " 12.850224874335375,\n",
       " -54.368737025052866,\n",
       " 17,\n",
       " 39,\n",
       " 10.178433157574396,\n",
       " 122.80099167023094,\n",
       " 20,\n",
       " 38,\n",
       " 7.962792041662614,\n",
       " 108.40334607956697,\n",
       " 23,\n",
       " 37,\n",
       " 6.5735540352476765,\n",
       " 85.75913385870636,\n",
       " 25,\n",
       " 38,\n",
       " 7.954066143167063,\n",
       " 71.78651360625476,\n",
       " 26,\n",
       " 37,\n",
       " 7.424842040137128,\n",
       " 61.99686311551837,\n",
       " 27,\n",
       " 38,\n",
       " 8.787013864466187,\n",
       " 59.30027744918559,\n",
       " 27,\n",
       " 40,\n",
       " 10.55622256664491,\n",
       " 64.85103636348177,\n",
       " 27,\n",
       " 40,\n",
       " 10.55622256664491,\n",
       " 64.85103636348177,\n",
       " 26,\n",
       " 39,\n",
       " 9.2385335169176,\n",
       " 67.83069972118253,\n",
       " 24,\n",
       " 39,\n",
       " 8.68366610935528,\n",
       " 80.14596938852148,\n",
       " 23,\n",
       " 39,\n",
       " 8.569354402552344,\n",
       " 86.74805439963612,\n",
       " 18,\n",
       " 39,\n",
       " 9.673299528363222,\n",
       " 117.81601260884742,\n",
       " 13,\n",
       " 17,\n",
       " 16.470190290639525,\n",
       " -125.28492871308278,\n",
       " 15,\n",
       " 16,\n",
       " 16.281907183840897,\n",
       " -117.48310413241882,\n",
       " 18,\n",
       " 16,\n",
       " 15.133313193411299,\n",
       " -107.35402463626133,\n",
       " 20,\n",
       " 18,\n",
       " 12.695819582702928,\n",
       " -101.42056568035966,\n",
       " 18,\n",
       " 19,\n",
       " 12.302459166492275,\n",
       " -111.52514266956656,\n",
       " 15,\n",
       " 19,\n",
       " 13.69064771574169,\n",
       " -123.28703689493683,\n",
       " 27,\n",
       " 40,\n",
       " 10.55622256664491,\n",
       " 64.85103636348177,\n",
       " 26,\n",
       " 41,\n",
       " 11.116326900799208,\n",
       " 71.72351401152426,\n",
       " 25,\n",
       " 42,\n",
       " 11.819966694298298,\n",
       " 77.85822136644309,\n",
       " 24,\n",
       " 43,\n",
       " 12.643199814256274,\n",
       " 83.24971565855373,\n",
       " 22,\n",
       " 42,\n",
       " 11.566976527496474,\n",
       " 92.54633169706797,\n",
       " 19,\n",
       " 41,\n",
       " 11.125069357531062,\n",
       " 108.41232909274576,\n",
       " 17,\n",
       " 39,\n",
       " 10.178433157574396,\n",
       " 122.80099167023094,\n",
       " 18,\n",
       " 39,\n",
       " 9.673299528363222,\n",
       " 117.81601260884742,\n",
       " 23,\n",
       " 40,\n",
       " 9.567912310825928,\n",
       " 87.0877543113485,\n",
       " 24,\n",
       " 40,\n",
       " 9.670427509157832,\n",
       " 81.1599923646402,\n",
       " 26,\n",
       " 40,\n",
       " 10.171608164608044,\n",
       " 69.95673694215307,\n",
       " 27,\n",
       " 40,\n",
       " 10.55622256664491,\n",
       " 64.85103636348177,\n",
       " 22,\n",
       " 32,\n",
       " 1.6382413975184535,\n",
       " 108.28134120297261,\n",
       " 24,\n",
       " 32,\n",
       " 2.1513436083033457,\n",
       " 46.30789560166382,\n",
       " 26,\n",
       " 33,\n",
       " 4.322480176535598,\n",
       " 36.24394038402571,\n",
       " 27,\n",
       " 33,\n",
       " 5.162950425751291,\n",
       " 29.66841049882138,\n",
       " 29,\n",
       " 32,\n",
       " 6.6700367639240765,\n",
       " 13.486452357654663]"
      ]
     },
     "execution_count": 21,
     "metadata": {},
     "output_type": "execute_result"
    }
   ],
   "source": [
    "process_data_landmarks(img)\n"
   ]
  },
  {
   "cell_type": "code",
   "execution_count": null,
   "metadata": {},
   "outputs": [],
   "source": []
  },
  {
   "cell_type": "code",
   "execution_count": null,
   "metadata": {},
   "outputs": [],
   "source": []
  },
  {
   "cell_type": "code",
   "execution_count": 10,
   "metadata": {},
   "outputs": [],
   "source": [
    "def collect_distance_an_img(x1):\n",
    "    x2 = []\n",
    "    for i in range (x1.shape[0]):\n",
    "        for j in range (i+1, x1.shape[0]):\n",
    "            x2.append(round(np.linalg.norm(x1[i] - x1[j]), 2))\n",
    "     \n",
    "    return x2\n"
   ]
  },
  {
   "cell_type": "code",
   "execution_count": null,
   "metadata": {},
   "outputs": [],
   "source": []
  },
  {
   "cell_type": "code",
   "execution_count": 22,
   "metadata": {},
   "outputs": [],
   "source": [
    "#train\n",
    "train_x = []\n",
    "train_y = []\n",
    "for i in range (0, x_train.shape[0]):\n",
    "    img =face_recognition.load_image_file('train_images/'+'train' + str(i)+'.jpg')\n",
    "   \n",
    "    \n",
    "   \n",
    "    face_landmarks = face_recognition.face_landmarks(img)\n",
    "    if(len(face_landmarks) > 0):\n",
    "        train_x.append(process_data_landmarks(img))\n",
    "        train_y.append(y_train[i])\n",
    "\n",
    "        \n",
    "        "
   ]
  },
  {
   "cell_type": "code",
   "execution_count": 23,
   "metadata": {},
   "outputs": [
    {
     "name": "stdout",
     "output_type": "stream",
     "text": [
      "[[-2.         16.         28.45299147 ... 32.          6.67003676\n",
      "  13.48645236]\n",
      " [ 5.         25.         19.64896901 ... 30.          4.18977389\n",
      "  -7.61974557]\n",
      " [ 7.         13.         20.20893947 ... 31.          3.22509451\n",
      "  47.79270237]\n",
      " ...\n",
      " [ 7.         18.         21.81205229 ... 33.          4.00195265\n",
      "  38.65980825]\n",
      " [ 6.         19.         21.82065118 ... 27.          3.48436765\n",
      "  21.75899959]\n",
      " [-1.         12.         28.36519518 ... 33.          6.64169223\n",
      "  34.52086457]]\n",
      "(19802, 288)\n"
     ]
    }
   ],
   "source": [
    "train_x = np.asarray(train_x)\n",
    "train_y = np.asarray(train_y)\n",
    "print(train_x)\n",
    "print(train_x.shape)"
   ]
  },
  {
   "cell_type": "code",
   "execution_count": null,
   "metadata": {},
   "outputs": [],
   "source": [
    "\n"
   ]
  },
  {
   "cell_type": "code",
   "execution_count": 24,
   "metadata": {},
   "outputs": [],
   "source": [
    "test_x = []\n",
    "test_y = []\n",
    "for i in range (0, 1000):\n",
    "    img =face_recognition.load_image_file('test_images/'+'test' + str(i)+'.jpg')\n",
    "    face_landmarks = face_recognition.face_landmarks(img)\n",
    "    if(len(face_landmarks) > 0):\n",
    "        test_x.append(process_data_landmarks(img))\n",
    "        test_y.append(y_test[i])\n"
   ]
  },
  {
   "cell_type": "code",
   "execution_count": 25,
   "metadata": {},
   "outputs": [
    {
     "name": "stdout",
     "output_type": "stream",
     "text": [
      "[[1. 0. 0. ... 0. 0. 0.]\n",
      " [0. 0. 0. ... 1. 0. 0.]\n",
      " [0. 0. 0. ... 0. 0. 1.]\n",
      " ...\n",
      " [0. 0. 0. ... 0. 0. 1.]\n",
      " [0. 0. 0. ... 1. 0. 0.]\n",
      " [1. 0. 0. ... 0. 0. 0.]]\n",
      "[[ 7.         18.         19.46382467 ... 31.          4.52234251\n",
      "  20.49425972]\n",
      " [ 9.         20.         17.07658516 ... 31.          3.19266255\n",
      "  26.89945854]\n",
      " [ 1.         16.         27.34724691 ... 31.          5.39389802\n",
      "  17.68846625]\n",
      " ...\n",
      " [ 2.         25.         15.1559855  ... 26.          1.93175422\n",
      "  -9.93638994]\n",
      " [-1.         15.         27.95522489 ... 30.          4.73698672\n",
      "  20.24145247]\n",
      " [ 4.         20.         22.48518888 ... 32.          4.38752616\n",
      "  33.63976396]]\n",
      "(688, 288)\n"
     ]
    }
   ],
   "source": [
    "test_x = np.asarray(test_x)\n",
    "test_y = np.asarray(test_y)\n",
    "print(test_y)\n",
    "print(test_x)\n",
    "print(test_x.shape)\n"
   ]
  },
  {
   "cell_type": "code",
   "execution_count": null,
   "metadata": {},
   "outputs": [],
   "source": [
    "\n"
   ]
  },
  {
   "cell_type": "code",
   "execution_count": 32,
   "metadata": {},
   "outputs": [
    {
     "ename": "SyntaxError",
     "evalue": "invalid syntax (<ipython-input-32-a4479dbf2516>, line 10)",
     "output_type": "error",
     "traceback": [
      "\u001b[0;36m  File \u001b[0;32m\"<ipython-input-32-a4479dbf2516>\"\u001b[0;36m, line \u001b[0;32m10\u001b[0m\n\u001b[0;31m    model.add(Dense(512, activation = 'relu')\u001b[0m\n\u001b[0m        ^\u001b[0m\n\u001b[0;31mSyntaxError\u001b[0m\u001b[0;31m:\u001b[0m invalid syntax\n"
     ]
    }
   ],
   "source": [
    "#model\n",
    "leakyRely=LeakyReLU(alpha = 0.01)\n",
    "model = Sequential()\n",
    "\n",
    "model.add(Dense(512, activation = 'relu', input_dim =train_x.shape[1] ))\n",
    "\n",
    "\n",
    "model.add(Dense(512, activation = 'relu')\n",
    "\n",
    "\n",
    "model.add(Dense(512, activation = 'relu')\n",
    "\n",
    "\n",
    "model.add(Dense(512, activation = 'relu')\n",
    "\n",
    "\n",
    "\n",
    "\n",
    "model.add(Dense(7, activation = 'softmax'))\n",
    "# Early stopping  \n",
    "early_stop = EarlyStopping(monitor='val_loss', min_delta=0, patience=3, verbose=1, mode='auto')\n",
    "#compile model\n",
    "adam = Adam(lr=0.0001, beta_1=0.9, beta_2=0.999, epsilon=None, decay=0.0)\n",
    "model.compile(loss='categorical_crossentropy', metrics=['accuracy'], optimizer=adam)\n",
    "\n",
    "#fit model\n",
    "model.fit(train_x, train_y,\n",
    "          batch_size=32, epochs=60,\n",
    "          verbose=2,\n",
    "          validation_data=(test_x, test_y))"
   ]
  },
  {
   "cell_type": "code",
   "execution_count": null,
   "metadata": {},
   "outputs": [],
   "source": [
    "def save_model(model,name):\n",
    "    '''\n",
    "    save model architecture and model weights\n",
    "    '''\n",
    "    json_string = model.to_json()\n",
    "    open(name+'_architecture.json', 'w').write(json_string)\n",
    "    model.save_weights(name+'_weights.h5')"
   ]
  },
  {
   "cell_type": "code",
   "execution_count": null,
   "metadata": {},
   "outputs": [],
   "source": [
    "save_model(model, \"model2\")"
   ]
  },
  {
   "cell_type": "code",
   "execution_count": null,
   "metadata": {},
   "outputs": [],
   "source": []
  }
 ],
 "metadata": {
  "kernelspec": {
   "display_name": "Python 3",
   "language": "python",
   "name": "python3"
  },
  "language_info": {
   "codemirror_mode": {
    "name": "ipython",
    "version": 3
   },
   "file_extension": ".py",
   "mimetype": "text/x-python",
   "name": "python",
   "nbconvert_exporter": "python",
   "pygments_lexer": "ipython3",
   "version": "3.6.2"
  }
 },
 "nbformat": 4,
 "nbformat_minor": 2
}
